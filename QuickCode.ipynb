{
 "cells": [
  {
   "cell_type": "code",
   "execution_count": 1,
   "metadata": {},
   "outputs": [],
   "source": [
    "import requests\n",
    "\n",
    "\n",
    "url = f\"https://mangasee123.com/_search.php\"\n",
    "\n",
    "\n",
    "# Send the GET request\n",
    "response = requests.get(url)\n",
    "\n",
    "# Get the response in JSON format\n",
    "response_json = response.json()\n"
   ]
  },
  {
   "cell_type": "code",
   "execution_count": null,
   "metadata": {},
   "outputs": [],
   "source": [
    "import json\n",
    "\n",
    "print(len(response_json))\n",
    "\n",
    "with open(\"Test.json\", \"w\") as outfile: \n",
    "    json.dump(response_json, outfile, indent=4)"
   ]
  },
  {
   "cell_type": "code",
   "execution_count": 2,
   "metadata": {},
   "outputs": [
    {
     "data": {
      "text/plain": [
       "8250"
      ]
     },
     "execution_count": 2,
     "metadata": {},
     "output_type": "execute_result"
    }
   ],
   "source": [
    "len(response_json)"
   ]
  },
  {
   "cell_type": "code",
   "execution_count": 3,
   "metadata": {},
   "outputs": [
    {
     "name": "stdout",
     "output_type": "stream",
     "text": [
      "Error: Ai-Wo-Utau-Yori-Ore-Ni-Oborero\n",
      "Error: An-Archdemons-Friends-Dilemma-How-to-Babysit-a-Crybaby-Knight\n",
      "Error: Reincarnated-as-an-Aristocrat-with-an-Appraisal-Skill\n",
      "Error: Itai-No-Wa-Iya-Nanode-Bougyo-ryoku-Ni-Kyokufuri-Shitai-To-Omoimasu\n",
      "Error: Tondemo-Skill-de-Isekai-Hourou-Meshi-Sui-no-Daibouken\n",
      "Error: Tsuujou-Kougeki-Ga-Zentai-Kougeki-De-Ni-kai-Kougeki-No-Okaa-san-Wa-Suki-Desu-Ka\n",
      "Error: Ghost-In-The-Shell-2\n",
      "Error: Hirayasumi\n",
      "Error: Junjou-Romantica\n",
      "Error: Koi-Inu\n",
      "Error: Liliths-Cord\n",
      "Error: Magical-Explorer-Reborn-as-a-Side-Character-in-a-Fantasy-Dating-Sim\n",
      "Error: Sokushi-Cheat-Ga-Saikyou-Sugite\n",
      "Error: Oniichan-No-Koto-Ga-Suki-Sugite-Nyan-Nyan\n",
      "Error: Reincarnated-into-an-Otome-Game-Nah-Im-Too-Busy-Mastering-Magic\n",
      "Error: Shimotsuki-san-Likes-the-Mob-This-Shy-Girl-is-Only-Sweet-Towards-Me\n",
      "Error: Tengen-Toppa-Gurren-Lagann\n",
      "Error: The-Nationally-Famous-Idol-Who-Turned-out-to-Be-My-Childhood-Friend\n",
      "Error: Tobaku-Datenroku-Kaiji---24oku-Dasshutsu-Hen\n",
      "Error: Tobaku-Datenroku-Kaiji---One-Poker-Hen\n",
      "Error: We-Swore-to-Meet-in-the-Next-Life-and-Thats-When-Things-Got-Weird\n",
      "Error: When-I-Reincarnated-I-Was-a-Soldier-A-Man-Called-the-Red-Shinigami\n",
      "Error: When-Trying-to-Get-Back-at-the-Hometown-Bullies-Another-Battle-Began\n"
     ]
    }
   ],
   "source": [
    "from bs4 import BeautifulSoup\n",
    "import requests\n",
    "import json\n",
    "import re\n",
    "\n",
    "\n",
    "Data = {\n",
    "    #AnimeNameURL : {\n",
    "    #                   \"NumberOfChapters\" : ?\n",
    "    #                   \"Path\" : Link\n",
    "    #                   \"Chapters\" : {\n",
    "    #                                   1 : {\"ChpaterID\" : 100000,  \"NumPages\": 29}\n",
    "    #                                   2 : {ChpaterID : 100010,  NumPages: 100}\n",
    "    # } \n",
    "    #}\n",
    "}\n",
    "\n",
    "Error = []\n",
    "\n",
    "\n",
    "\n",
    "\n",
    "def ScriptFromHtml(Manga, Chapter, Page):\n",
    "    try:    \n",
    "        url = f\"https://mangasee123.com/read-online/{Manga}-chapter-{Chapter}-page-{Page}.html\"\n",
    "\n",
    "        response = requests.get(url)\n",
    "        # Parse the HTML content\n",
    "        soup = BeautifulSoup(response.text, 'html.parser')\n",
    "\n",
    "        # Find the script tag containing the variables\n",
    "        script_tag = soup.find('script', string=re.compile(r'vm\\.CurPage'))\n",
    "\n",
    "        # Extract the script content\n",
    "        script_content = script_tag.string\n",
    "\n",
    "        \n",
    "        return script_content\n",
    "    \n",
    "    except Exception as e:\n",
    "        return None\n",
    "\n",
    "\n",
    "for i in range(0,8250):\n",
    "    Manga = response_json[i][\"i\"]\n",
    "\n",
    "    for j in range(0,3):\n",
    "        script_content = ScriptFromHtml(Manga, 1, 1)\n",
    "        if script_content != None:\n",
    "            break\n",
    "        script_content = ScriptFromHtml(Manga, 1.1, 1)\n",
    "        if script_content != None:\n",
    "            break\n",
    "        script_content = ScriptFromHtml(Manga, 0, 1)\n",
    "        if script_content != None:\n",
    "            break\n",
    "    \n",
    "    if script_content == None:\n",
    "        Error.append(Manga)\n",
    "        print(f\"Error: {Manga}\")\n",
    "        continue\n",
    "\n",
    "    # Define regex patterns for each variable\n",
    "    match = re.search(r'vm\\.CHAPTERS = (\\[.*?\\]);', script_content, re.DOTALL)\n",
    "    Path = re.search(r'vm\\.CurPathName = \"(.*?)\";', script_content, re.DOTALL)\n",
    "    \n",
    "    MangaData = json.loads(match.group(1))\n",
    "\n",
    "    Data[Manga] = {}\n",
    "    Data[Manga][\"NumberOfChapters\"] = len(MangaData)\n",
    "    Data[Manga][\"Path\"] = Path.group(1)\n",
    "    Data[Manga][\"Chapters\"] = {}\n",
    "\n",
    "    for  index, Chapter in enumerate(MangaData):\n",
    "        Data[Manga][\"Chapters\"][index] = {}\n",
    "        Data[Manga][\"Chapters\"][index][\"ChpaterID\"] = int(Chapter[\"Chapter\"])\n",
    "        Data[Manga][\"Chapters\"][index][\"NumPages\"] = int(Chapter[\"Page\"])\n",
    "\n",
    "\n",
    "with open(\"MangaData.json\", \"w\") as outfile: \n",
    "    json.dump(Data, outfile, indent=4)\n",
    "\n",
    "\n",
    "with open(\"GrapedError.json\", \"w\") as outfile: \n",
    "    json.dump(Error, outfile)"
   ]
  },
  {
   "cell_type": "code",
   "execution_count": 5,
   "metadata": {},
   "outputs": [
    {
     "data": {
      "text/plain": [
       "23"
      ]
     },
     "execution_count": 5,
     "metadata": {},
     "output_type": "execute_result"
    }
   ],
   "source": [
    "len(Error)"
   ]
  },
  {
   "cell_type": "code",
   "execution_count": null,
   "metadata": {},
   "outputs": [],
   "source": [
    "import requests\n",
    "\n",
    "\n",
    "url = f\"https://mangasee123.com/read-online/29-sai-Dokushin-wa-Isekai-de-Jiyuu-ni-Ikitakatta-chapter-1-page-1.html\"\n",
    "\n",
    "print(url)\n",
    "\n",
    "response = requests.get(url)\n",
    "\n",
    "response.status_code\n",
    "\n",
    "\n",
    "soup = BeautifulSoup(response.text, 'html.parser')\n",
    "\n",
    "# Find the script tag containing the variables\n",
    "script_tag = soup.find('script', string=re.compile(r'vm\\.CurPage'))\n",
    "\n",
    "print(script_tag)\n"
   ]
  },
  {
   "cell_type": "code",
   "execution_count": 3,
   "metadata": {},
   "outputs": [
    {
     "name": "stdout",
     "output_type": "stream",
     "text": [
      "200\n"
     ]
    }
   ],
   "source": [
    "import requests\n",
    "\n",
    "\n",
    "url = \"https://hot.leanbox.us/manga/Shingeki-No-Kyojin/0001-001.png\"\n",
    "\n",
    "response = requests.get(url)\n",
    "print(response.status_code)"
   ]
  },
  {
   "cell_type": "code",
   "execution_count": 6,
   "metadata": {},
   "outputs": [],
   "source": [
    "with open(\"Test.Png\", \"wb\") as f:\n",
    "    f.write(response.content)"
   ]
  },
  {
   "cell_type": "code",
   "execution_count": 5,
   "metadata": {},
   "outputs": [
    {
     "ename": "SyntaxError",
     "evalue": "unterminated f-string literal (detected at line 9) (2756289118.py, line 9)",
     "output_type": "error",
     "traceback": [
      "\u001b[1;36m  Cell \u001b[1;32mIn[5], line 9\u001b[1;36m\u001b[0m\n\u001b[1;33m    return f\"{number:04d}\u001b[0m\n\u001b[1;37m           ^\u001b[0m\n\u001b[1;31mSyntaxError\u001b[0m\u001b[1;31m:\u001b[0m unterminated f-string literal (detected at line 9)\n"
     ]
    }
   ],
   "source": [
    "number = 1\n",
    "\n",
    "def ChangeNumberFormate(number, Format):\n",
    "    if isinstance(number, float):\n",
    "        integer_part, decimal_part = str(number).split('.')\n",
    "        integer_part = f\"{int(integer_part):0{Format}d}\"\n",
    "        return f\"{integer_part}.{decimal_part}\"\n",
    "    else:\n",
    "        return f\"{number:0{Format}d}\"\n",
    "\n",
    "ChangeNumberFormate(number, 4)\n"
   ]
  }
 ],
 "metadata": {
  "kernelspec": {
   "display_name": "Python 3 (ipykernel)",
   "language": "python",
   "name": "python3"
  },
  "language_info": {
   "codemirror_mode": {
    "name": "ipython",
    "version": 3
   },
   "file_extension": ".py",
   "mimetype": "text/x-python",
   "name": "python",
   "nbconvert_exporter": "python",
   "pygments_lexer": "ipython3",
   "version": "3.12.4"
  }
 },
 "nbformat": 4,
 "nbformat_minor": 4
}
