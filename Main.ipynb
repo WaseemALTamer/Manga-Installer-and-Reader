{
 "cells": [
  {
   "cell_type": "code",
   "execution_count": 2,
   "metadata": {},
   "outputs": [],
   "source": [
    "from MangaSeeAPI import MangaGraper\n",
    "Graper = MangaGraper()"
   ]
  },
  {
   "cell_type": "code",
   "execution_count": 3,
   "metadata": {},
   "outputs": [
    {
     "name": "stdout",
     "output_type": "stream",
     "text": [
      "Pridction: 100 => Show: One Piece\n",
      "Pridction: 100 => Show: One Piece - Ace's Story - The Manga\n",
      "Pridction: 100 => Show: One Piece - Digital Colored Comics\n",
      "Pridction: 100 => Show: One Piece - Shokugeki no Sanji\n",
      "Pridction: 100 => Show: One Piece Party\n",
      "[{'i': 'One-Piece', 's': 'One Piece', 'a': ['One Piece'], 'p': 1.0}, {'i': 'One-Piece-Aces-Story-The-Manga', 's': \"One Piece - Ace's Story - The Manga\", 'a': [], 'p': 1.0}, {'i': 'One-Piece-Digital-Colored-Comics', 's': 'One Piece - Digital Colored Comics', 'a': ['One Piece - Digital Colored Comics'], 'p': 1.0}, {'i': 'One-Piece-Shokugeki-no-Sanji', 's': 'One Piece - Shokugeki no Sanji', 'a': ['Shokugeki no Sanji'], 'p': 1.0}, {'i': 'One-Piece-Party', 's': 'One Piece Party', 'a': ['One Piece Party'], 'p': 1.0}]\n"
     ]
    }
   ],
   "source": [
    "results = Graper.Search(\"one piece\", Accuracy=0.60)\n",
    "\n",
    "print(results)"
   ]
  },
  {
   "cell_type": "code",
   "execution_count": 4,
   "metadata": {},
   "outputs": [
    {
     "name": "stdout",
     "output_type": "stream",
     "text": [
      "One-Piece\n",
      "Chapter Found: 1122\n"
     ]
    }
   ],
   "source": [
    "#Write the Exact name or Exact altirnative name\n",
    "MangaName = \"One Piece\"\n",
    "DictionaryPointer = Graper.GrapMangaData(MangaName)\n",
    "if DictionaryPointer != None:\n",
    "    print(DictionaryPointer)\n",
    "    print(f\"Chapter Found: {Graper.Data[DictionaryPointer][\"NumberOfChapters\"]}\")\n",
    "    #print(Graper.Data)"
   ]
  },
  {
   "cell_type": "code",
   "execution_count": null,
   "metadata": {},
   "outputs": [],
   "source": [
    "Graper.InstallMangaChaptersMT(DictionaryPointer, \"One Piece\", ThreadCount=10)"
   ]
  },
  {
   "cell_type": "code",
   "execution_count": null,
   "metadata": {},
   "outputs": [],
   "source": [
    "#####For updates only\n",
    "\n",
    "\n",
    "\n",
    "\n",
    "\n",
    "\n",
    "\n",
    "\n",
    "\n",
    "from MangaSeeAPI import MangaGraper\n",
    "Graper = MangaGraper()\n",
    "\n",
    "direcotry = \"one piece\"\n",
    "DictionaryPointer = Graper.CheckUpdates(direcotry) # this will check the chapters you have \n",
    "                                                   # and filter out the ones you have from \n",
    "                                                   # the ones you dont have"
   ]
  },
  {
   "cell_type": "code",
   "execution_count": null,
   "metadata": {},
   "outputs": [],
   "source": [
    "Graper.InstallMangaChaptersMT(DictionaryPointer, \"One Piece\", ThreadCount=10)"
   ]
  }
 ],
 "metadata": {
  "kernelspec": {
   "display_name": "Python 3",
   "language": "python",
   "name": "python3"
  },
  "language_info": {
   "codemirror_mode": {
    "name": "ipython",
    "version": 3
   },
   "file_extension": ".py",
   "mimetype": "text/x-python",
   "name": "python",
   "nbconvert_exporter": "python",
   "pygments_lexer": "ipython3",
   "version": "3.12.4"
  }
 },
 "nbformat": 4,
 "nbformat_minor": 2
}
