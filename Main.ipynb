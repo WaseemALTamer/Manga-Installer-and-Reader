{
 "cells": [
  {
   "cell_type": "code",
   "execution_count": 10,
   "metadata": {},
   "outputs": [],
   "source": [
    "from MangaSeeAPI import MangaGraper\n",
    "\n",
    "Graper = MangaGraper()"
   ]
  },
  {
   "cell_type": "code",
   "execution_count": 11,
   "metadata": {},
   "outputs": [
    {
     "name": "stdout",
     "output_type": "stream",
     "text": [
      "Pridction: 80 => Show: Even Given the Worthless 'Appraiser' Class, I'm Actually the Strongest\n",
      "Pridction: 100 => Show: Even Given the Worthless 'Blacksmith' Class, I'm Still the Strongest\n",
      "[{'i': 'The-Unfavorable-Job-Appraiser-Is-Actually-the-Strongest', 's': \"Even Given the Worthless 'Appraiser' Class, I'm Actually the Strongest\", 'a': ['The Unfavorable Job Appraiser Is Actually the Strongest', 'The Unfavorable Job [Appraiser] Is Actually the Strongest'], 'p': 0.8}, {'i': 'The-Weakest-Occupation-Blacksmith-but-Its-Actually-the-Strongest', 's': \"Even Given the Worthless 'Blacksmith' Class, I'm Still the Strongest\", 'a': ['Fuguushoku \"Kajishi\" Dakedo Saikyou Desu'], 'p': 1.0}]\n"
     ]
    }
   ],
   "source": [
    "results = Graper.Search(\"Attack on Titan\", Accuracy=0.60)\n",
    "\n",
    "print(results)"
   ]
  },
  {
   "cell_type": "code",
   "execution_count": 13,
   "metadata": {},
   "outputs": [
    {
     "name": "stdout",
     "output_type": "stream",
     "text": [
      "The-Weakest-Occupation-Blacksmith-but-Its-Actually-the-Strongest\n",
      "Chapter Found: 163\n"
     ]
    }
   ],
   "source": [
    "#Write the Exact name or altirnative name\n",
    "MangaName = \"Even Given the Worthless 'Blacksmith' Class, I'm Still the Strongest\"\n",
    "DictionaryPointer = Graper.GrapMangaData(MangaName)\n",
    "if DictionaryPointer != None:\n",
    "    print(DictionaryPointer)\n",
    "    print(f\"Chapter Found: {Graper.Data[DictionaryPointer][\"NumberOfChapters\"]}\")\n",
    "    #print(Graper.Data)"
   ]
  },
  {
   "cell_type": "code",
   "execution_count": 14,
   "metadata": {},
   "outputs": [
    {
     "name": "stdout",
     "output_type": "stream",
     "text": [
     ]
    }
   ],
   "source": [
    "Graper.InstallMangaChaptersMT(DictionaryPointer, \"Even Given the Worthless 'Blacksmith' Class, I'm Still the Strongest\",ThreadCount=10)"
   ]
  }
 ],
 "metadata": {
  "kernelspec": {
   "display_name": "Python 3",
   "language": "python",
   "name": "python3"
  },
  "language_info": {
   "codemirror_mode": {
    "name": "ipython",
    "version": 3
   },
   "file_extension": ".py",
   "mimetype": "text/x-python",
   "name": "python",
   "nbconvert_exporter": "python",
   "pygments_lexer": "ipython3",
   "version": "3.12.4"
  }
 },
 "nbformat": 4,
 "nbformat_minor": 2
}
