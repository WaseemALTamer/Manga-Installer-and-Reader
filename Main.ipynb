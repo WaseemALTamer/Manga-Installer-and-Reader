{
 "cells": [
  {
   "cell_type": "code",
   "execution_count": 3,
   "metadata": {},
   "outputs": [],
   "source": [
    "from MangaSeeAPI import MangaGraper\n",
    "Graper = MangaGraper()"
   ]
  },
  {
   "cell_type": "code",
   "execution_count": 5,
   "metadata": {},
   "outputs": [
    {
     "name": "stdout",
     "output_type": "stream",
     "text": [
      "Pridction: 100 => Show: I'm Quitting Heroing\n",
      "[{'i': 'Yuusha-Yamemasu', 's': \"I'm Quitting Heroing\", 'a': ['Yuusha Yamemasu'], 'p': 1.0}]\n"
     ]
    }
   ],
   "source": [
    "results = Graper.Search(\"I'm Quitting Heroing\", Accuracy=0.60)\n",
    "\n",
    "print(results)"
   ]
  },
  {
   "cell_type": "code",
   "execution_count": 6,
   "metadata": {},
   "outputs": [
    {
     "name": "stdout",
     "output_type": "stream",
     "text": [
      "Yuusha-Yamemasu\n",
      "Chapter Found: 47\n"
     ]
    }
   ],
   "source": [
    "#Write the Exact name or Exact altirnative name\n",
    "MangaName = \"I'm Quitting Heroing\"\n",
    "DictionaryPointer = Graper.GrapMangaData(MangaName)\n",
    "if DictionaryPointer != None:\n",
    "    print(DictionaryPointer)\n",
    "    print(f\"Chapter Found: {Graper.Data[DictionaryPointer][\"NumberOfChapters\"]}\")\n",
    "    #print(Graper.Data)"
   ]
  },
  {
   "cell_type": "code",
   "execution_count": 7,
   "metadata": {},
   "outputs": [
    {
     "name": "stdout",
     "output_type": "stream",
     "text": [
      "Completion => 2.127659574468085% ==> 1/47\n",
      "Completion => 4.25531914893617% ==> 2/47\n",
      "Completion => 6.382978723404255% ==> 3/47\n",
      "Completion => 8.51063829787234% ==> 4/47\n",
      "Completion => 10.638297872340425% ==> 5/47\n",
      "Completion => 12.76595744680851% ==> 6/47\n",
      "Completion => 14.893617021276595% ==> 7/47\n",
      "Completion => 17.02127659574468% ==> 8/47\n",
      "Completion => 19.148936170212767% ==> 9/47\n",
      "Completion => 21.27659574468085% ==> 10/47\n",
      "Completion => 23.404255319148938% ==> 11/47\n",
      "Completion => 25.53191489361702% ==> 12/47\n",
      "Completion => 27.659574468085108% ==> 13/47\n",
      "Completion => 29.78723404255319% ==> 14/47\n",
      "Completion => 31.914893617021278% ==> 15/47\n",
      "Completion => 34.04255319148936% ==> 16/47\n",
      "Completion => 36.17021276595745% ==> 17/47\n",
      "Completion => 38.297872340425535% ==> 18/47\n",
      "Completion => 40.42553191489361% ==> 19/47\n",
      "Completion => 42.5531914893617% ==> 20/47\n",
      "Completion => 44.680851063829785% ==> 21/47\n",
      "Completion => 46.808510638297875% ==> 22/47\n",
      "Completion => 48.93617021276596% ==> 23/47\n",
      "Completion => 51.06382978723404% ==> 24/47\n",
      "Completion => 53.191489361702125% ==> 25/47\n",
      "Completion => 55.319148936170215% ==> 26/47\n",
      "Completion => 57.446808510638306% ==> 27/47\n",
      "Completion => 59.57446808510638% ==> 28/47\n",
      "Completion => 61.702127659574465% ==> 29/47\n",
      "Completion => 63.829787234042556% ==> 30/47\n",
      "Completion => 65.95744680851064% ==> 31/47\n",
      "Completion => 68.08510638297872% ==> 32/47\n",
      "Completion => 70.2127659574468% ==> 33/47\n",
      "Completion => 72.3404255319149% ==> 34/47\n",
      "Completion => 74.46808510638297% ==> 35/47\n",
      "Completion => 76.59574468085107% ==> 36/47\n",
      "Completion => 78.72340425531915% ==> 37/47\n",
      "Completion => 80.85106382978722% ==> 38/47\n",
      "Completion => 82.97872340425532% ==> 39/47\n",
      "Completion => 85.1063829787234% ==> 40/47\n",
      "Completion => 87.2340425531915% ==> 41/47\n",
      "Completion => 89.36170212765957% ==> 42/47\n",
      "Completion => 91.48936170212765% ==> 43/47\n",
      "Completion => 93.61702127659575% ==> 44/47\n",
      "Completion => 95.74468085106383% ==> 45/47\n",
      "Completion => 97.87234042553192% ==> 46/47\n",
      "Completion => 100.0% ==> 47/47\n"
     ]
    }
   ],
   "source": [
    "Graper.InstallMangaChaptersMT(DictionaryPointer, \"I'm Quitting Heroing\", ThreadCount=10)"
   ]
  },
  {
   "cell_type": "code",
   "execution_count": 1,
   "metadata": {},
   "outputs": [
    {
     "name": "stdout",
     "output_type": "stream",
     "text": [
      "[111230]\n",
      "1\n"
     ]
    }
   ],
   "source": [
    "#####For updates only\n",
    "\n",
    "\n",
    "\n",
    "\n",
    "\n",
    "\n",
    "\n",
    "\n",
    "\n",
    "from MangaSeeAPI import MangaGraper\n",
    "Graper = MangaGraper()\n",
    "\n",
    "direcotry = \"one piece\"\n",
    "DictionaryPointer = Graper.CheckUpdates(direcotry) # this will check the chapters you have \n",
    "                                                   # and filter out the ones you have from \n",
    "                                                   # the ones you dont have"
   ]
  },
  {
   "cell_type": "code",
   "execution_count": 2,
   "metadata": {},
   "outputs": [
    {
     "name": "stdout",
     "output_type": "stream",
     "text": [
      "Completion => 100.0% ==> 1123/1123\n"
     ]
    }
   ],
   "source": [
    "Graper.InstallMangaChaptersMT(DictionaryPointer, \"One Piece\", ThreadCount=10)"
   ]
  }
 ],
 "metadata": {
  "kernelspec": {
   "display_name": "Python 3",
   "language": "python",
   "name": "python3"
  },
  "language_info": {
   "codemirror_mode": {
    "name": "ipython",
    "version": 3
   },
   "file_extension": ".py",
   "mimetype": "text/x-python",
   "name": "python",
   "nbconvert_exporter": "python",
   "pygments_lexer": "ipython3",
   "version": "3.12.4"
  }
 },
 "nbformat": 4,
 "nbformat_minor": 2
}
