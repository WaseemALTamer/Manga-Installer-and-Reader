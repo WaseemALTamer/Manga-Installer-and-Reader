{
 "cells": [
  {
   "cell_type": "code",
   "execution_count": 1,
   "metadata": {},
   "outputs": [],
   "source": [
    "from MangaSeeAPI import MangaGraper\n",
    "Graper = MangaGraper()"
   ]
  },
  {
   "cell_type": "code",
   "execution_count": 2,
   "metadata": {},
   "outputs": [
    {
     "name": "stdout",
     "output_type": "stream",
     "text": [
      "Pridction: 100 => Show: Kaiu Shirai x Posuka Demizu - Beyond The Promised Neverland\n",
      "Pridction: 100 => Show: The Promised Neverland\n",
      "[{'i': 'Kaiu-Shirai-x-Posuka-Demizu-Beyond-The-Promised-Neverland', 's': 'Kaiu Shirai x Posuka Demizu - Beyond The Promised Neverland', 'a': ['Shirai Kaiu x Demizu Posuka Tanpenshuu'], 'p': 1.0}, {'i': 'The-Promised-Neverland', 's': 'The Promised Neverland', 'a': ['Yakusoku no Neverland'], 'p': 1.0}]\n"
     ]
    }
   ],
   "source": [
    "results = Graper.Search(\"The neverland\", Accuracy=0.60)\n",
    "\n",
    "print(results)"
   ]
  },
  {
   "cell_type": "code",
   "execution_count": 5,
   "metadata": {},
   "outputs": [
    {
     "name": "stdout",
     "output_type": "stream",
     "text": [
      "The-Wrong-Way-To-Use-Healing-Magic\n",
      "Chapter Found: 75\n"
     ]
    }
   ],
   "source": [
    "#Write the Exact name or Exact altirnative name\n",
    "MangaName = \"The Wrong Way to use Healing Magic\"\n",
    "DictionaryPointer = Graper.GrapMangaData(MangaName)\n",
    "if DictionaryPointer != None:\n",
    "    print(DictionaryPointer)\n",
    "    print(f\"Chapter Found: {Graper.Data[DictionaryPointer][\"NumberOfChapters\"]}\")\n",
    "    #print(Graper.Data)"
   ]
  },
  {
   "cell_type": "code",
   "execution_count": null,
   "metadata": {},
   "outputs": [],
   "source": [
    "direcotry = \"Dr. STONE\"\n",
    "\n",
    "DictionaryPointer = Graper.CheckUpdates(direcotry)"
   ]
  },
  {
   "cell_type": "code",
   "execution_count": 6,
   "metadata": {},
   "outputs": [
    {
     "name": "stdout",
     "output_type": "stream",
     "text": [
      "Completion => 1.3333333333333335% ==> 1/75\n",
      "Completion => 2.666666666666667% ==> 2/75\n",
      "Completion => 4.0% ==> 3/75\n",
      "Completion => 5.333333333333334% ==> 4/75\n",
      "Completion => 6.666666666666667% ==> 5/75\n",
      "Completion => 8.0% ==> 6/75\n",
      "Completion => 9.333333333333334% ==> 7/75\n",
      "Completion => 10.666666666666668% ==> 8/75\n",
      "Completion => 12.0% ==> 9/75\n",
      "Completion => 13.333333333333334% ==> 10/75\n",
      "Completion => 14.666666666666666% ==> 11/75\n",
      "Completion => 16.0% ==> 12/75\n",
      "Completion => 17.333333333333336% ==> 13/75\n",
      "Completion => 18.666666666666668% ==> 14/75\n",
      "Completion => 20.0% ==> 15/75\n",
      "Completion => 21.333333333333336% ==> 16/75\n",
      "Completion => 22.666666666666664% ==> 17/75\n",
      "Completion => 24.0% ==> 18/75\n",
      "Completion => 25.333333333333336% ==> 19/75\n",
      "Completion => 26.666666666666668% ==> 20/75\n",
      "Completion => 28.000000000000004% ==> 21/75\n",
      "Completion => 29.333333333333332% ==> 22/75\n",
      "Completion => 30.666666666666664% ==> 23/75\n",
      "Completion => 32.0% ==> 24/75\n",
      "Completion => 33.33333333333333% ==> 25/75\n",
      "Completion => 34.66666666666667% ==> 26/75\n",
      "Completion => 36.0% ==> 27/75\n",
      "Completion => 37.333333333333336% ==> 28/75\n",
      "Completion => 38.666666666666664% ==> 29/75\n",
      "Completion => 40.0% ==> 30/75\n",
      "Completion => 41.333333333333336% ==> 31/75\n",
      "Completion => 42.66666666666667% ==> 32/75\n",
      "Completion => 44.0% ==> 33/75\n",
      "Completion => 45.33333333333333% ==> 34/75\n",
      "Completion => 46.666666666666664% ==> 35/75\n",
      "Completion => 48.0% ==> 36/75\n",
      "Completion => 49.333333333333336% ==> 37/75\n",
      "Completion => 50.66666666666667% ==> 38/75\n",
      "Completion => 52.0% ==> 39/75\n",
      "Completion => 53.333333333333336% ==> 40/75\n",
      "Completion => 54.666666666666664% ==> 41/75\n",
      "Completion => 56.00000000000001% ==> 42/75\n",
      "Completion => 57.333333333333336% ==> 43/75\n",
      "Completion => 58.666666666666664% ==> 44/75\n",
      "Completion => 60.0% ==> 45/75\n",
      "Completion => 61.33333333333333% ==> 46/75\n",
      "Completion => 62.66666666666667% ==> 47/75\n",
      "Completion => 64.0% ==> 48/75\n",
      "Completion => 65.33333333333333% ==> 49/75\n",
      "Completion => 66.66666666666666% ==> 50/75\n",
      "Completion => 68.0% ==> 51/75\n",
      "Completion => 69.33333333333334% ==> 52/75\n",
      "Completion => 70.66666666666667% ==> 53/75\n",
      "Completion => 72.0% ==> 54/75\n",
      "Completion => 73.33333333333333% ==> 55/75\n",
      "Completion => 74.66666666666667% ==> 56/75\n",
      "Completion => 76.0% ==> 57/75\n",
      "Completion => 77.33333333333333% ==> 58/75\n",
      "Completion => 78.66666666666666% ==> 59/75\n",
      "Completion => 80.0% ==> 60/75\n",
      "Completion => 81.33333333333333% ==> 61/75\n",
      "Completion => 82.66666666666667% ==> 62/75\n",
      "Completion => 84.0% ==> 63/75\n",
      "Completion => 85.33333333333334% ==> 64/75\n",
      "Completion => 86.66666666666667% ==> 65/75\n",
      "Completion => 88.0% ==> 66/75\n",
      "Completion => 89.33333333333333% ==> 67/75\n",
      "Completion => 90.66666666666666% ==> 68/75\n",
      "Completion => 92.0% ==> 69/75\n",
      "Completion => 93.33333333333333% ==> 70/75\n",
      "Completion => 94.66666666666667% ==> 71/75\n",
      "Completion => 96.0% ==> 72/75\n",
      "Completion => 97.33333333333334% ==> 73/75\n",
      "Completion => 98.66666666666667% ==> 74/75\n",
      "Completion => 100.0% ==> 75/75\n"
     ]
    }
   ],
   "source": [
    "Graper.InstallMangaChaptersMT(DictionaryPointer, \"The Wrong Way to use Healing Magic\", ThreadCount=10)"
   ]
  }
 ],
 "metadata": {
  "kernelspec": {
   "display_name": "Python 3",
   "language": "python",
   "name": "python3"
  },
  "language_info": {
   "codemirror_mode": {
    "name": "ipython",
    "version": 3
   },
   "file_extension": ".py",
   "mimetype": "text/x-python",
   "name": "python",
   "nbconvert_exporter": "python",
   "pygments_lexer": "ipython3",
   "version": "3.12.4"
  }
 },
 "nbformat": 4,
 "nbformat_minor": 2
}
